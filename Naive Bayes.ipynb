{
 "cells": [
  {
   "cell_type": "code",
   "execution_count": 1,
   "id": "29bd6def",
   "metadata": {},
   "outputs": [],
   "source": [
    "import pandas as pd\n",
    "import numpy as np\n",
    "import matplotlib.pyplot as plt\n",
    "from sklearn.preprocessing import LabelEncoder\n",
    "from sklearn.model_selection import train_test_split\n",
    "from sklearn.naive_bayes import GaussianNB\n",
    "from sklearn.metrics import accuracy_score\n",
    "from sklearn.preprocessing import MinMaxScaler"
   ]
  },
  {
   "cell_type": "code",
   "execution_count": 2,
   "id": "36f47394",
   "metadata": {},
   "outputs": [
    {
     "data": {
      "text/html": [
       "<div>\n",
       "<style scoped>\n",
       "    .dataframe tbody tr th:only-of-type {\n",
       "        vertical-align: middle;\n",
       "    }\n",
       "\n",
       "    .dataframe tbody tr th {\n",
       "        vertical-align: top;\n",
       "    }\n",
       "\n",
       "    .dataframe thead th {\n",
       "        text-align: right;\n",
       "    }\n",
       "</style>\n",
       "<table border=\"1\" class=\"dataframe\">\n",
       "  <thead>\n",
       "    <tr style=\"text-align: right;\">\n",
       "      <th></th>\n",
       "      <th>ï»¿Lat</th>\n",
       "      <th>Lng</th>\n",
       "      <th>What Dinosaurs Eat</th>\n",
       "      <th>Accepted Name</th>\n",
       "      <th>Country</th>\n",
       "      <th>Cc</th>\n",
       "      <th>Diet</th>\n",
       "      <th>Early Interval</th>\n",
       "      <th>Formation</th>\n",
       "      <th>Geological Interval</th>\n",
       "      <th>Geological Time Period</th>\n",
       "      <th>Ref Author</th>\n",
       "      <th>Ref Pubyr</th>\n",
       "      <th>State</th>\n",
       "      <th>Max Ma</th>\n",
       "      <th>Min Ma</th>\n",
       "    </tr>\n",
       "  </thead>\n",
       "  <tbody>\n",
       "    <tr>\n",
       "      <th>0</th>\n",
       "      <td>42.933300</td>\n",
       "      <td>123.966698</td>\n",
       "      <td>PLANT</td>\n",
       "      <td>Chaoyangsaurus youngi</td>\n",
       "      <td>China</td>\n",
       "      <td>CN</td>\n",
       "      <td>herbivore</td>\n",
       "      <td>Late Tithonian</td>\n",
       "      <td>Tuchengzi</td>\n",
       "      <td>Tithonian</td>\n",
       "      <td>Jurassic</td>\n",
       "      <td>Dong</td>\n",
       "      <td>1992</td>\n",
       "      <td>Liaoning</td>\n",
       "      <td>150.8</td>\n",
       "      <td>132.90</td>\n",
       "    </tr>\n",
       "    <tr>\n",
       "      <th>1</th>\n",
       "      <td>41.799999</td>\n",
       "      <td>120.733330</td>\n",
       "      <td>PLANT and ANIMAL</td>\n",
       "      <td>Protarchaeopteryx robusta</td>\n",
       "      <td>China</td>\n",
       "      <td>CN</td>\n",
       "      <td>omnivore</td>\n",
       "      <td>Late Barremian</td>\n",
       "      <td>Yixian</td>\n",
       "      <td>Barremian</td>\n",
       "      <td>Cretaceous</td>\n",
       "      <td>Ji et al.</td>\n",
       "      <td>1998</td>\n",
       "      <td>Liaoning</td>\n",
       "      <td>130.0</td>\n",
       "      <td>122.46</td>\n",
       "    </tr>\n",
       "    <tr>\n",
       "      <th>2</th>\n",
       "      <td>41.799999</td>\n",
       "      <td>120.733330</td>\n",
       "      <td>PLANT and ANIMAL</td>\n",
       "      <td>Caudipteryx zoui</td>\n",
       "      <td>China</td>\n",
       "      <td>CN</td>\n",
       "      <td>omnivore</td>\n",
       "      <td>Late Barremian</td>\n",
       "      <td>Yixian</td>\n",
       "      <td>Barremian</td>\n",
       "      <td>Cretaceous</td>\n",
       "      <td>Ji and Ji</td>\n",
       "      <td>1997</td>\n",
       "      <td>Liaoning</td>\n",
       "      <td>130.0</td>\n",
       "      <td>122.46</td>\n",
       "    </tr>\n",
       "    <tr>\n",
       "      <th>3</th>\n",
       "      <td>50.740726</td>\n",
       "      <td>-111.528732</td>\n",
       "      <td>FLESH</td>\n",
       "      <td>Gorgosaurus libratus</td>\n",
       "      <td>Canada</td>\n",
       "      <td>CA</td>\n",
       "      <td>carnivore</td>\n",
       "      <td>Late Campanian</td>\n",
       "      <td>Dinosaur Park</td>\n",
       "      <td>Campanian</td>\n",
       "      <td>Cretaceous</td>\n",
       "      <td>Matthew and Brown</td>\n",
       "      <td>1922</td>\n",
       "      <td>Alberta</td>\n",
       "      <td>83.5</td>\n",
       "      <td>70.60</td>\n",
       "    </tr>\n",
       "    <tr>\n",
       "      <th>4</th>\n",
       "      <td>50.737015</td>\n",
       "      <td>-111.549347</td>\n",
       "      <td>FLESH</td>\n",
       "      <td>Gorgosaurus libratus</td>\n",
       "      <td>Canada</td>\n",
       "      <td>CA</td>\n",
       "      <td>carnivore</td>\n",
       "      <td>Late Campanian</td>\n",
       "      <td>Dinosaur Park</td>\n",
       "      <td>Campanian</td>\n",
       "      <td>Cretaceous</td>\n",
       "      <td>Russell</td>\n",
       "      <td>1970</td>\n",
       "      <td>Alberta</td>\n",
       "      <td>83.5</td>\n",
       "      <td>70.60</td>\n",
       "    </tr>\n",
       "  </tbody>\n",
       "</table>\n",
       "</div>"
      ],
      "text/plain": [
       "      ï»¿Lat         Lng What Dinosaurs Eat              Accepted Name  \\\n",
       "0  42.933300  123.966698              PLANT      Chaoyangsaurus youngi   \n",
       "1  41.799999  120.733330   PLANT and ANIMAL  Protarchaeopteryx robusta   \n",
       "2  41.799999  120.733330   PLANT and ANIMAL           Caudipteryx zoui   \n",
       "3  50.740726 -111.528732              FLESH       Gorgosaurus libratus   \n",
       "4  50.737015 -111.549347              FLESH       Gorgosaurus libratus   \n",
       "\n",
       "  Country  Cc       Diet  Early Interval      Formation Geological Interval  \\\n",
       "0   China  CN  herbivore  Late Tithonian      Tuchengzi           Tithonian   \n",
       "1   China  CN   omnivore  Late Barremian         Yixian           Barremian   \n",
       "2   China  CN   omnivore  Late Barremian         Yixian           Barremian   \n",
       "3  Canada  CA  carnivore  Late Campanian  Dinosaur Park           Campanian   \n",
       "4  Canada  CA  carnivore  Late Campanian  Dinosaur Park           Campanian   \n",
       "\n",
       "  Geological Time Period         Ref Author  Ref Pubyr     State  Max Ma  \\\n",
       "0               Jurassic               Dong       1992  Liaoning   150.8   \n",
       "1             Cretaceous          Ji et al.       1998  Liaoning   130.0   \n",
       "2             Cretaceous          Ji and Ji       1997  Liaoning   130.0   \n",
       "3             Cretaceous  Matthew and Brown       1922   Alberta    83.5   \n",
       "4             Cretaceous            Russell       1970   Alberta    83.5   \n",
       "\n",
       "   Min Ma  \n",
       "0  132.90  \n",
       "1  122.46  \n",
       "2  122.46  \n",
       "3   70.60  \n",
       "4   70.60  "
      ]
     },
     "execution_count": 2,
     "metadata": {},
     "output_type": "execute_result"
    }
   ],
   "source": [
    "# Ruta al archivo local\n",
    "file_path = 'C:/Users/angel/OneDrive/Desktop/Tareas/Machine Learning/Naive Bayes/kaggle.csv'\n",
    "\n",
    "# Cargar el conjunto de datos en un DataFrame de pandas\n",
    "df = pd.read_csv(file_path, encoding='latin-1')\n",
    "\n",
    "# Mostrar las primeras filas del DataFrame para verificar que se haya cargado correctamente\n",
    "df.head()"
   ]
  },
  {
   "cell_type": "code",
   "execution_count": 3,
   "id": "01eac6ec",
   "metadata": {},
   "outputs": [],
   "source": [
    "# Etiquetar codificación para convertir las categorías de texto en números\n",
    "label_encoders = {}\n",
    "categorical_columns = ['What Dinosaurs Eat', 'Country', 'Cc', 'Diet', 'Early Interval', 'Formation', \n",
    "                       'Geological Interval', 'Geological Time Period', 'Ref Author', 'Ref Pubyr', 'State']\n",
    "\n",
    "for column in categorical_columns:\n",
    "    label_encoders[column] = LabelEncoder()\n",
    "    df[column] = label_encoders[column].fit_transform(df[column])"
   ]
  },
  {
   "cell_type": "code",
   "execution_count": 4,
   "id": "d84509ed",
   "metadata": {},
   "outputs": [],
   "source": [
    "# Dividir los datos en características (X) y etiquetas (y)\n",
    "X = df.drop(columns=['Diet','Ref Author', 'Accepted Name', 'Ref Pubyr', 'Country','Formation'])  # Las características son todas las columnas excepto 'Diet'\n",
    "Nom_dino = df['Accepted Name']\n",
    "y = df['Diet']  # La etiqueta que queremos predecir es 'Diet'"
   ]
  },
  {
   "cell_type": "code",
   "execution_count": 5,
   "id": "dfedf585",
   "metadata": {},
   "outputs": [],
   "source": [
    "scaler = MinMaxScaler()\n",
    "X_scaled = scaler.fit_transform(X)"
   ]
  },
  {
   "cell_type": "code",
   "execution_count": 6,
   "id": "4fabbf72",
   "metadata": {},
   "outputs": [],
   "source": [
    "# Dividir los datos en conjuntos de entrenamiento y prueba\n",
    "X_train, X_test, y_train, y_test = train_test_split(X_scaled, y, test_size=0.2, random_state=42)"
   ]
  },
  {
   "cell_type": "code",
   "execution_count": 7,
   "id": "5e3e4071",
   "metadata": {
    "scrolled": true
   },
   "outputs": [
    {
     "data": {
      "text/html": [
       "<style>#sk-container-id-1 {color: black;}#sk-container-id-1 pre{padding: 0;}#sk-container-id-1 div.sk-toggleable {background-color: white;}#sk-container-id-1 label.sk-toggleable__label {cursor: pointer;display: block;width: 100%;margin-bottom: 0;padding: 0.3em;box-sizing: border-box;text-align: center;}#sk-container-id-1 label.sk-toggleable__label-arrow:before {content: \"▸\";float: left;margin-right: 0.25em;color: #696969;}#sk-container-id-1 label.sk-toggleable__label-arrow:hover:before {color: black;}#sk-container-id-1 div.sk-estimator:hover label.sk-toggleable__label-arrow:before {color: black;}#sk-container-id-1 div.sk-toggleable__content {max-height: 0;max-width: 0;overflow: hidden;text-align: left;background-color: #f0f8ff;}#sk-container-id-1 div.sk-toggleable__content pre {margin: 0.2em;color: black;border-radius: 0.25em;background-color: #f0f8ff;}#sk-container-id-1 input.sk-toggleable__control:checked~div.sk-toggleable__content {max-height: 200px;max-width: 100%;overflow: auto;}#sk-container-id-1 input.sk-toggleable__control:checked~label.sk-toggleable__label-arrow:before {content: \"▾\";}#sk-container-id-1 div.sk-estimator input.sk-toggleable__control:checked~label.sk-toggleable__label {background-color: #d4ebff;}#sk-container-id-1 div.sk-label input.sk-toggleable__control:checked~label.sk-toggleable__label {background-color: #d4ebff;}#sk-container-id-1 input.sk-hidden--visually {border: 0;clip: rect(1px 1px 1px 1px);clip: rect(1px, 1px, 1px, 1px);height: 1px;margin: -1px;overflow: hidden;padding: 0;position: absolute;width: 1px;}#sk-container-id-1 div.sk-estimator {font-family: monospace;background-color: #f0f8ff;border: 1px dotted black;border-radius: 0.25em;box-sizing: border-box;margin-bottom: 0.5em;}#sk-container-id-1 div.sk-estimator:hover {background-color: #d4ebff;}#sk-container-id-1 div.sk-parallel-item::after {content: \"\";width: 100%;border-bottom: 1px solid gray;flex-grow: 1;}#sk-container-id-1 div.sk-label:hover label.sk-toggleable__label {background-color: #d4ebff;}#sk-container-id-1 div.sk-serial::before {content: \"\";position: absolute;border-left: 1px solid gray;box-sizing: border-box;top: 0;bottom: 0;left: 50%;z-index: 0;}#sk-container-id-1 div.sk-serial {display: flex;flex-direction: column;align-items: center;background-color: white;padding-right: 0.2em;padding-left: 0.2em;position: relative;}#sk-container-id-1 div.sk-item {position: relative;z-index: 1;}#sk-container-id-1 div.sk-parallel {display: flex;align-items: stretch;justify-content: center;background-color: white;position: relative;}#sk-container-id-1 div.sk-item::before, #sk-container-id-1 div.sk-parallel-item::before {content: \"\";position: absolute;border-left: 1px solid gray;box-sizing: border-box;top: 0;bottom: 0;left: 50%;z-index: -1;}#sk-container-id-1 div.sk-parallel-item {display: flex;flex-direction: column;z-index: 1;position: relative;background-color: white;}#sk-container-id-1 div.sk-parallel-item:first-child::after {align-self: flex-end;width: 50%;}#sk-container-id-1 div.sk-parallel-item:last-child::after {align-self: flex-start;width: 50%;}#sk-container-id-1 div.sk-parallel-item:only-child::after {width: 0;}#sk-container-id-1 div.sk-dashed-wrapped {border: 1px dashed gray;margin: 0 0.4em 0.5em 0.4em;box-sizing: border-box;padding-bottom: 0.4em;background-color: white;}#sk-container-id-1 div.sk-label label {font-family: monospace;font-weight: bold;display: inline-block;line-height: 1.2em;}#sk-container-id-1 div.sk-label-container {text-align: center;}#sk-container-id-1 div.sk-container {/* jupyter's `normalize.less` sets `[hidden] { display: none; }` but bootstrap.min.css set `[hidden] { display: none !important; }` so we also need the `!important` here to be able to override the default hidden behavior on the sphinx rendered scikit-learn.org. See: https://github.com/scikit-learn/scikit-learn/issues/21755 */display: inline-block !important;position: relative;}#sk-container-id-1 div.sk-text-repr-fallback {display: none;}</style><div id=\"sk-container-id-1\" class=\"sk-top-container\"><div class=\"sk-text-repr-fallback\"><pre>GaussianNB()</pre><b>In a Jupyter environment, please rerun this cell to show the HTML representation or trust the notebook. <br />On GitHub, the HTML representation is unable to render, please try loading this page with nbviewer.org.</b></div><div class=\"sk-container\" hidden><div class=\"sk-item\"><div class=\"sk-estimator sk-toggleable\"><input class=\"sk-toggleable__control sk-hidden--visually\" id=\"sk-estimator-id-1\" type=\"checkbox\" checked><label for=\"sk-estimator-id-1\" class=\"sk-toggleable__label sk-toggleable__label-arrow\">GaussianNB</label><div class=\"sk-toggleable__content\"><pre>GaussianNB()</pre></div></div></div></div></div>"
      ],
      "text/plain": [
       "GaussianNB()"
      ]
     },
     "execution_count": 7,
     "metadata": {},
     "output_type": "execute_result"
    }
   ],
   "source": [
    "# Crear y entrenar el clasificador Naive Bayes\n",
    "naive_bayes_classifier = GaussianNB()\n",
    "naive_bayes_classifier.fit(X_train, y_train)"
   ]
  },
  {
   "cell_type": "code",
   "execution_count": 8,
   "id": "6be3fe63",
   "metadata": {},
   "outputs": [],
   "source": [
    "# Realizar predicciones en el conjunto de prueba\n",
    "predicciones = naive_bayes_classifier.predict(X_test)"
   ]
  },
  {
   "cell_type": "code",
   "execution_count": 9,
   "id": "c9971ebe",
   "metadata": {},
   "outputs": [
    {
     "name": "stdout",
     "output_type": "stream",
     "text": [
      "Precisión del clasificador Naive Bayes: 0.97\n"
     ]
    }
   ],
   "source": [
    "# Evaluar el rendimiento del clasificador\n",
    "precision = accuracy_score(y_test, predicciones)\n",
    "print(\"Precisión del clasificador Naive Bayes: {:.2f}\".format(precision))"
   ]
  },
  {
   "cell_type": "code",
   "execution_count": 10,
   "id": "169e9fdc",
   "metadata": {},
   "outputs": [
    {
     "name": "stdout",
     "output_type": "stream",
     "text": [
      "Para el Dinosaurio Hypacrosaurus altispinus, se predice que tuvo una dieta de tipo 2. Su dieta real fue de tipo 2.\n"
     ]
    }
   ],
   "source": [
    "import random\n",
    "    \n",
    "indice_aleatorio = random.choice(range(len(y_test)))\n",
    "\n",
    "nombre_dinosaurio = Nom_dino.iloc[indice_aleatorio]\n",
    "prediccion_dieta = predicciones[indice_aleatorio]\n",
    "dieta_actual = y_test.iloc[indice_aleatorio]\n",
    "\n",
    "print(f\"Para el Dinosaurio {nombre_dinosaurio}, se predice que tuvo una dieta de tipo {prediccion_dieta}. Su dieta real fue de tipo {dieta_actual}.\")"
   ]
  },
  {
   "cell_type": "code",
   "execution_count": null,
   "id": "d902b007",
   "metadata": {},
   "outputs": [],
   "source": []
  }
 ],
 "metadata": {
  "kernelspec": {
   "display_name": "Python 3 (ipykernel)",
   "language": "python",
   "name": "python3"
  },
  "language_info": {
   "codemirror_mode": {
    "name": "ipython",
    "version": 3
   },
   "file_extension": ".py",
   "mimetype": "text/x-python",
   "name": "python",
   "nbconvert_exporter": "python",
   "pygments_lexer": "ipython3",
   "version": "3.11.4"
  }
 },
 "nbformat": 4,
 "nbformat_minor": 5
}
